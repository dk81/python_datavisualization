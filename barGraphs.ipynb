{
 "cells": [
  {
   "cell_type": "markdown",
   "metadata": {},
   "source": [
    "**<u>Bar Graphs In Python</u>**\n",
    "\n",
    "Hi there. I have been experimenting with creating bar graphs in Python. Here is some stuff that I have come up with.\n",
    "\n",
    "**Sections**\n",
    "\n",
    "* A Regular Bar Graph\n",
    "\n",
    "* A Horizontal Bar Graph\n",
    "\n",
    "* Side By Side Bars\n",
    "\n",
    "* References\n"
   ]
  },
  {
   "cell_type": "markdown",
   "metadata": {},
   "source": [
    "**<u>A Regular Bar Chart</u>**\n",
    "\n",
    "To start off, the numpy and matplotlib packages are loaded into Python."
   ]
  },
  {
   "cell_type": "code",
   "execution_count": 2,
   "metadata": {
    "collapsed": true
   },
   "outputs": [],
   "source": [
    "# Bar Graphs In Python\n",
    "\n",
    "# References: Python Data Visualization Cookbook\n",
    "# https://pythonspot.com/en/matplotlib-bar-chart/\n",
    "# https://stackoverflow.com/questions/3777861/setting-y-axis-limit-in-matplotlib\n",
    "# https://stackoverflow.com/questions/21321670/how-to-change-fonts-in-matplotlib-python\n",
    "\n",
    "import numpy as np\n",
    "import matplotlib.pyplot as plt"
   ]
  },
  {
   "cell_type": "markdown",
   "metadata": {},
   "source": [
    "I have manually created some sample data from a favourite colour survey for a classroom. The colour choices are red, green, blue, black, orange and purple. The counts associated with the colours are 8, 11, 14, 10, 12 and 20. In the code, the `np.arange(len(colours))` is used for setting up the x-axis in the plot."
   ]
  },
  {
   "cell_type": "code",
   "execution_count": 3,
   "metadata": {
    "collapsed": true
   },
   "outputs": [],
   "source": [
    "colours = (\"Red\", \"Green\", \"Blue\", \"Black\", \"Orange\", \"Purple\")\n",
    "y_position = np.arange(len(colours))\n",
    "\n",
    "y = [8, 11, 14, 10, 12, 20]"
   ]
  },
  {
   "cell_type": "markdown",
   "metadata": {},
   "source": [
    "To create the bar graph, the `plt.bar()` function is used. In the arguments, I have y_position in the x-axis, y in the y-axis, the bar-width as 0.5, centered alignment, lightgreen bars, and a label that says Class #1."
   ]
  },
  {
   "cell_type": "code",
   "execution_count": 5,
   "metadata": {},
   "outputs": [
    {
     "data": {
      "text/plain": [
       "<Container object of 6 artists>"
      ]
     },
     "execution_count": 5,
     "metadata": {},
     "output_type": "execute_result"
    }
   ],
   "source": [
    "# Bar Graph:\n",
    "\n",
    "plt.bar(y_position, y, width = 0.5, align = \"center\", color = \"lightgreen\",\n",
    "        label = \"Class #1\")"
   ]
  },
  {
   "cell_type": "markdown",
   "metadata": {},
   "source": [
    "The above code on its own is not enough. Modifications to axes and adding labels is necessary for creating a presentable bar graph plot."
   ]
  },
  {
   "cell_type": "code",
   "execution_count": 6,
   "metadata": {},
   "outputs": [
    {
     "data": {
      "text/plain": [
       "(0, 25)"
      ]
     },
     "execution_count": 6,
     "metadata": {},
     "output_type": "execute_result"
    }
   ],
   "source": [
    "# Labels And Title:\n",
    "\n",
    "plt.xlabel(\"Colour\")\n",
    "plt.xticks(y_position, colours)\n",
    "plt.ylabel(\"Count\")\n",
    "plt.title(\"Favourite Colour Survey Results \\n\")\n",
    "plt.legend(loc = \"upper right\")\n",
    "\n",
    "axes = plt.gca()\n",
    "axes.set_ylim([0, 25])"
   ]
  },
  {
   "cell_type": "markdown",
   "metadata": {},
   "source": [
    "In order to show the plot, use the function `plt.show()`."
   ]
  },
  {
   "cell_type": "code",
   "execution_count": 7,
   "metadata": {},
   "outputs": [
    {
     "data": {
      "image/png": "[encoded data removed]",
      "text/plain": [
       "<matplotlib.figure.Figure at 0x287ec80d198>"
      ]
     },
     "metadata": {},
     "output_type": "display_data"
    }
   ],
   "source": [
    "plt.show()"
   ]
  },
  {
   "cell_type": "markdown",
   "metadata": {},
   "source": [
    "**<u>A Horizontal Bar Graph</u>**\n",
    "\n",
    "Creating horizontal bar graph plots requires some slight adjustments from the previous code. To get the sideways bar, the `plt.barh()` function will do the trick. Do keep in mind that the labels have to be adjusted as you have switched values and labels from x to y and vice versa.\n",
    "\n",
    "I have also adjusted the title font to Comic Sans MS."
   ]
  },
  {
   "cell_type": "code",
   "execution_count": 9,
   "metadata": {},
   "outputs": [
    {
     "data": {
      "image/png": "[encoded data removed]",
      "text/plain": [
       "<matplotlib.figure.Figure at 0x287ec8a03c8>"
      ]
     },
     "metadata": {},
     "output_type": "display_data"
    }
   ],
   "source": [
    "## Horizontal Bar Graph:\n",
    "\n",
    "# Bar Graph:\n",
    "\n",
    "plt.barh(y_position, y, align = \"center\", color = \"lightblue\",\n",
    "        label = \"Class #1\")\n",
    "\n",
    "# Labels And Title:\n",
    "\n",
    "plt.ylabel(\"Colour\")\n",
    "plt.yticks(y_position, colours)\n",
    "plt.xlabel(\"\\n Count\")\n",
    "\n",
    "csfont = {'fontname':'Comic Sans MS'}\n",
    "\n",
    "plt.title(\"Favourite Colour Survey Results \\n \", **csfont)\n",
    "plt.legend(loc = \"lower right\")\n",
    "\n",
    "axes = plt.gca()\n",
    "axes.set_xlim([0, 25])\n",
    "\n",
    "\n",
    "plt.show()"
   ]
  },
  {
   "cell_type": "markdown",
   "metadata": {},
   "source": [
    "**<u>Side By Side Bars</u>**\n",
    "\n",
    "This section deals with side by side vertical bars in the bar graph. Having side by side bars is good for comparing different groups and gives the audience a good idea of how each group does depending on various criteria.\n",
    "\n",
    "In this example, I include a second class and their results on their favourite colours."
   ]
  },
  {
   "cell_type": "code",
   "execution_count": 10,
   "metadata": {
    "collapsed": true
   },
   "outputs": [],
   "source": [
    "# Side By Side Bar Graphs:\n",
    "\n",
    "import numpy as np\n",
    "import matplotlib.pyplot as plt\n",
    "\n",
    "colours = (\"Red\", \"Green\", \"Blue\", \"Black\", \"Orange\", \"Purple\")\n",
    "\n",
    "class_one = [8, 11, 14, 10, 12, 20]\n",
    "\n",
    "class_two = [5, 12, 10, 17, 8, 12]"
   ]
  },
  {
   "cell_type": "markdown",
   "metadata": {},
   "source": [
    "In the side by side bar graph, I use a subplots function for double bars. I have the first set of bars from class 1 set up in `plt.bar()` like in the previous section. For the second of set of bars for class 2, it is important to note that y-position + bar width is used to create the bars beside the first set of bars. These second set of bars are red."
   ]
  },
  {
   "cell_type": "code",
   "execution_count": 11,
   "metadata": {
    "collapsed": true
   },
   "outputs": [],
   "source": [
    "# Bar Graph:\n",
    "\n",
    "fig, ax = plt.subplots()\n",
    "y_position = np.arange(len(colours))\n",
    "bar_width = 0.4\n",
    "\n",
    "bar1 = plt.bar(y_position, class_one, bar_width , color = \"lightgreen\",\n",
    "        label = \"Class #1\")\n",
    "        \n",
    "bar2 = plt.bar(y_position + bar_width, class_two, bar_width , color = \"red\",\n",
    "        label = \"Class #2\")"
   ]
  },
  {
   "cell_type": "markdown",
   "metadata": {},
   "source": [
    "After setting up the two set of bars, the settings for the axes, title, fonts and labels are coded into Python."
   ]
  },
  {
   "cell_type": "code",
   "execution_count": 12,
   "metadata": {},
   "outputs": [
    {
     "data": {
      "image/png": "[encoded data removed]",
      "text/plain": [
       "<matplotlib.figure.Figure at 0x287ecb77cc0>"
      ]
     },
     "metadata": {},
     "output_type": "display_data"
    }
   ],
   "source": [
    "# Labels And Title:\n",
    "\n",
    "plt.xlabel(\"\\n Colour\")\n",
    "plt.ylabel(\"Count \\n\")\n",
    "\n",
    "csfont = {'fontname':'Comic Sans MS'}\n",
    "plt.title(\"Favourite Colour Survey Results \\n\", **csfont)\n",
    "\n",
    "plt.xticks(y_position + bar_width, colours)\n",
    "plt.legend(loc = \"upper left\")\n",
    "\n",
    "axes = plt.gca()\n",
    "axes.set_ylim([0, 25])\n",
    "\n",
    "\n",
    "plt.show()"
   ]
  },
  {
   "cell_type": "markdown",
   "metadata": {},
   "source": [
    "**<u>References</u>**\n",
    "\n",
    "* Python Data Visualization Cookbook By Igor Milovanović\n",
    "* https://pythonspot.com/en/matplotlib-bar-chart/\n",
    "* https://stackoverflow.com/questions/3777861/setting-y-axis-limit-in-matplotlib\n",
    "* https://stackoverflow.com/questions/21321670/how-to-change-fonts-in-matplotlib-python"
   ]
  }
 ],
 "metadata": {
  "kernelspec": {
   "display_name": "Python 3",
   "language": "python",
   "name": "python3"
  },
  "language_info": {
   "codemirror_mode": {
    "name": "ipython",
    "version": 3
   },
   "file_extension": ".py",
   "mimetype": "text/x-python",
   "name": "python",
   "nbconvert_exporter": "python",
   "pygments_lexer": "ipython3",
   "version": "3.8.3"
  }
 },
 "nbformat": 4,
 "nbformat_minor": 2
}
