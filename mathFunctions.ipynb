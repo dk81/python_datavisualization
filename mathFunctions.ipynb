{
 "cells": [
  {
   "cell_type": "markdown",
   "metadata": {},
   "source": [
    "# Plotting Math Functions In Python \n",
    "\n"
   ]
  },
  {
   "cell_type": "markdown",
   "metadata": {},
   "source": [
    "Hello there. In this page I show how to use Python in order to plot various mathematical functions. Python's pandas, Numpy and matplotlib libraries are featured here."
   ]
  },
  {
   "cell_type": "code",
   "execution_count": 1,
   "metadata": {
    "collapsed": true
   },
   "outputs": [],
   "source": [
    "# References: \n",
    "# https://www.tutorialspoint.com/seaborn/seaborn_quick_guide.htm\n",
    "\n",
    "# Import Python packages:\n",
    "\n",
    "import pandas as pd\n",
    "from matplotlib import pyplot as plt\n",
    "import numpy as np"
   ]
  },
  {
   "cell_type": "markdown",
   "metadata": {},
   "source": [
    "In the first example a basic cubic function is featured. Numpy's linspace function is used for x-values. For obtaining the y-values list comprehension is used. Each x-values is raised to the power of three to obtain the cubed value."
   ]
  },
  {
   "cell_type": "code",
   "execution_count": 7,
   "metadata": {},
   "outputs": [],
   "source": [
    "### 1) Cubic Function Example:\n",
    "\n",
    "\n",
    "xvalues = np.linspace(-20, 20, num = 100)\n",
    "cubic_y = [x ** 3 for x in xvalues]\n"
   ]
  },
  {
   "cell_type": "markdown",
   "metadata": {},
   "source": [
    "A pandas dataframe is created by combining the xvalues and the y-values from earlier."
   ]
  },
  {
   "cell_type": "code",
   "execution_count": 11,
   "metadata": {
    "collapsed": true
   },
   "outputs": [],
   "source": [
    "# Combine x-values and cubic_y into pandas dataframe:\n",
    "cubic_df = pd.DataFrame({\"x\": xvalues, \"f(x)\": cubic_y})"
   ]
  },
  {
   "cell_type": "markdown",
   "metadata": {},
   "source": [
    "With Python's matplotlib capabilities we can graph the cubic function along with labels."
   ]
  },
  {
   "cell_type": "code",
   "execution_count": 12,
   "metadata": {},
   "outputs": [
    {
     "data": {
      "image/png": "[encoded data removed]",
      "text/plain": [
       "<matplotlib.figure.Figure at 0x1f1df7c7828>"
      ]
     },
     "metadata": {},
     "output_type": "display_data"
    }
   ],
   "source": [
    "plt.plot('x', 'f(x)', data= cubic_df)\n",
    "\n",
    "plt.xlabel(\"\\n x\", fontsize = 20)\n",
    "plt.ylabel(\"f(x) \\n\", fontsize = 20)\n",
    "plt.title(\"A Basic Cubic Function Graph\", fontsize = 25) \n",
    "\n",
    "#  Math Annotation Text\n",
    "plt.text(0, 7000, r'$f(x) = x^3$', fontsize=20)\n",
    "\n",
    "plt.show()"
   ]
  },
  {
   "cell_type": "markdown",
   "metadata": {},
   "source": [
    "The second function features a sine function."
   ]
  },
  {
   "cell_type": "code",
   "execution_count": null,
   "metadata": {
    "collapsed": true
   },
   "outputs": [],
   "source": [
    "### 2) Sine Function Example:\n",
    "\n",
    "\n",
    "xvalues = np.linspace(-20, 20, num = 100)\n",
    "cubic_y = [x ** 3 for x in xvalues]\n",
    "\n"
   ]
  }
 ],
 "metadata": {
  "kernelspec": {
   "display_name": "Python 3",
   "language": "python",
   "name": "python3"
  },
  "language_info": {
   "codemirror_mode": {
    "name": "ipython",
    "version": 3
   },
   "file_extension": ".py",
   "mimetype": "text/x-python",
   "name": "python",
   "nbconvert_exporter": "python",
   "pygments_lexer": "ipython3",
   "version": "3.7.3"
  }
 },
 "nbformat": 4,
 "nbformat_minor": 2
}
