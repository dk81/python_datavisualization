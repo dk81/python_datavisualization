{
 "cells": [
  {
   "cell_type": "markdown",
   "metadata": {
    "collapsed": true
   },
   "source": [
    "**<u>Histograms In Python</u>**\n",
    "\n",
    "Hi there. I have been playing around with plotting histograms in Python with the Numpy and matplotlib packages. Here is some stuff I have done in Python.\n",
    "\n",
    "**<u>Sections</u>**\n",
    "\n",
    "* A Histogram Of Simulated Uniform Random Variables\n",
    "\n",
    "* A Histogram Of Simulated Standard Normal Random Variables\n",
    "\n",
    "* References"
   ]
  },
  {
   "cell_type": "markdown",
   "metadata": {},
   "source": [
    "**<u>A Histogram Of Simulated Uniform Random Variables</u>**\n",
    "\n",
    "Before plotting anything in Python, it is important to import the necessary packages. In Python, you need this code:"
   ]
  },
  {
   "cell_type": "code",
   "execution_count": 8,
   "metadata": {
    "collapsed": true
   },
   "outputs": [],
   "source": [
    "import numpy as np\n",
    "import matplotlib.pyplot as plt"
   ]
  },
  {
   "cell_type": "markdown",
   "metadata": {},
   "source": [
    "From the numpy package, I use the random function to generate (simulate) random variables. In this example, I generate 10 000 standard uniform random variables with `np.random.uniform()` with low = 0 and high = 1 in its arguments."
   ]
  },
  {
   "cell_type": "code",
   "execution_count": 9,
   "metadata": {
    "collapsed": true
   },
   "outputs": [],
   "source": [
    "# Example One - Standard Uniform Distribution Simulation Results\n",
    "\n",
    "unifs = np.random.uniform(low = 0, high = 1, size = 10000)"
   ]
  },
  {
   "cell_type": "markdown",
   "metadata": {},
   "source": [
    "To set up the histogram, I need `plt.gca()` to get the current axes."
   ]
  },
  {
   "cell_type": "code",
   "execution_count": 10,
   "metadata": {
    "collapsed": true
   },
   "outputs": [],
   "source": [
    "axunif = plt.gca() # gca means get current axes"
   ]
  },
  {
   "cell_type": "markdown",
   "metadata": {},
   "source": [
    "The remaining code below shows how to format the histogram in terms of bins, bar colours, labels and the title. To show the histogram, the function `plt.show()` does the trick."
   ]
  },
  {
   "cell_type": "code",
   "execution_count": 11,
   "metadata": {},
   "outputs": [
    {
     "data": {
      "image/png": "[encoded data removed]",
      "text/plain": [
       "<matplotlib.figure.Figure at 0x1ea97789940>"
      ]
     },
     "metadata": {},
     "output_type": "display_data"
    }
   ],
   "source": [
    "# Histogram of Simulated Uniforms Data:\n",
    "\n",
    "axunif.hist(unifs, bins = 30, color = \"orange\")\n",
    "\n",
    "axunif.set_xlabel('u')\n",
    "axunif.set_ylabel('f(u) \\n')\n",
    "\n",
    "axunif.set_title(\"Standard Uniform Distribution \\n Simulation Results (n = 10000) \\n\")\n",
    "\n",
    "plt.show()"
   ]
  },
  {
   "cell_type": "markdown",
   "metadata": {},
   "source": [
    "The histogram plot turns out nicely for the most part. The shape of all the bars does not exactly turn out to be a rectangle but I would assume that with a larger sample size, this shape would look much closer to a rectangle that the plot above."
   ]
  },
  {
   "cell_type": "markdown",
   "metadata": {},
   "source": [
    "**<u>A Histogram Of Simulated Standard Normal Random Variables</u>**\n",
    "\n",
    "In this example, I work with simulating standard normal random variables. The code is not much different than the one before. Slight modifications include the random function, the bar colour, the number of bins and labels."
   ]
  },
  {
   "cell_type": "code",
   "execution_count": 12,
   "metadata": {},
   "outputs": [
    {
     "data": {
      "image/png": "[encoded data removed]",
      "text/plain": [
       "<matplotlib.figure.Figure at 0x1ea97998f60>"
      ]
     },
     "metadata": {},
     "output_type": "display_data"
    }
   ],
   "source": [
    "# Example Two - Standard Normal Distribution Simulation Results\n",
    "\n",
    "normals = np.random.standard_normal(100000)\n",
    "\n",
    "axnorm = plt.gca() # gca means get current axes\n",
    "\n",
    "# Histogram of Simulated Normals Data:\n",
    "\n",
    "axnorm.hist(normals, bins = 50, color = \"green\")\n",
    "\n",
    "axnorm.set_xlabel('z')\n",
    "axnorm.set_ylabel('f(z)')\n",
    "\n",
    "axnorm.set_title(\"Standard Normal Distribution \\n Simulation Results (n = 100000) \\n\")\n",
    "\n",
    "\n",
    "plt.show()"
   ]
  },
  {
   "cell_type": "markdown",
   "metadata": {},
   "source": [
    "Note that when you use the `random.standard_normal()` function, it is implied that the mean = 0 and the standard deviation = 1. The only argument in `random.standard_normal()` is the size."
   ]
  },
  {
   "cell_type": "markdown",
   "metadata": {},
   "source": [
    "**<u>References</u>**\n",
    "\n",
    "* http://www.scipy-lectures.org/intro/matplotlib/matplotlib.html\n",
    "* Python Data Visualization Cookbook by Igor Milovanovic\n",
    "* https://docs.scipy.org/doc/numpy-1.12.0/reference/routines.random.html"
   ]
  }
 ],
 "metadata": {
  "kernelspec": {
   "display_name": "Python 3",
   "language": "python",
   "name": "python3"
  },
  "language_info": {
   "codemirror_mode": {
    "name": "ipython",
    "version": 3
   },
   "file_extension": ".py",
   "mimetype": "text/x-python",
   "name": "python",
   "nbconvert_exporter": "python",
   "pygments_lexer": "ipython3",
   "version": "3.6.1"
  }
 },
 "nbformat": 4,
 "nbformat_minor": 2
}
